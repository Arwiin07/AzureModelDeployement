{
 "cells": [
  {
   "cell_type": "code",
   "execution_count": 27,
   "id": "1dccc9d4-5b7a-4652-829c-62211f446e1b",
   "metadata": {},
   "outputs": [],
   "source": [
    "import os\n",
    "os.environ[\"AZURE_OPENAI_ENDPOINT\"] = \"https://mydemoafsazure.openai.azure.com/\"\n",
    "os.environ[\"AZURE_OPENAI_API_KEY\"]=\"45d803c1b6f74f4bad61cbe1bc9abf1f\"\n",
    "token= \"eyJ0eXAiOiJKV1QiLCJhbGciOiJSUzI1NiIsIng1dCI6InEtMjNmYWxldlpoaEQzaG05Q1Fia1A1TVF5VSIsImtpZCI6InEtMjNmYWxldlpoaEQzaG05Q1Fia1A1TVF5VSJ9.eyJhdWQiOiJodHRwczovL21hbmFnZW1lbnQuY29yZS53aW5kb3dzLm5ldC8iLCJpc3MiOiJodHRwczovL3N0cy53aW5kb3dzLm5ldC8xN2QwMTBmNC0xNGUyLTRkYmMtODA1Ni03NzFhNTI5ZWFkZmQvIiwiaWF0IjoxNzEyMzIwNjk5LCJuYmYiOjE3MTIzMjA2OTksImV4cCI6MTcxMjMyNTk2OSwiYWNyIjoiMSIsImFpbyI6IkFWUUFxLzhXQUFBQXB6OGJpM09Rd2o0d05XYUdTSmYweW1FREdCamxTeC9FTDQzOGZUUThNRUE3eGFKeHB1RnBCcWhqK1RXNm4zNW9VWG9iVWczanpINFFkZkZYODNNeTNxa1dVMnpFTVlkdHZhbnlrSFJmWm1rPSIsImFtciI6WyJwd2QiLCJyc2EiLCJtZmEiXSwiYXBwaWQiOiJiNjc3YzI5MC1jZjRiLTRhOGUtYTYwZS05MWJhNjUwYTRhYmUiLCJhcHBpZGFjciI6IjAiLCJkZXZpY2VpZCI6IjZhZjRiOTUyLWM1YjEtNDE3Zi1iOWFlLTUwNWE0MjRlMTFmYyIsImdpdmVuX25hbWUiOiJBcndpbiIsImdyb3VwcyI6WyIxN2ZmMmY1NS1mZTk4LTQ2ZWEtOGY5OS1kZmE5NTdiZGU2YTEiLCI5YTRjOTgyNi1mOGM0LTQ3NTgtYWQ5NS03MmRiZDI1YzY3NWEiLCI1NDhiZGMyYS03ZTUyLTRmYmEtYmY2OS1kNmE1ZTEyMTYxNzEiLCI1Y2UxMTk5Ny1iNzEzLTRhNGMtYjMzNC1hODY3OWZiMmYyMzIiLCJiMjk4MzZiYy03MTczLTRlNTEtYmY2MC02Y2I5NWMzYTRiN2IiLCI5ZWM3Y2ZkYy0wNzkzLTQyOTctOGIyZC1kZjIyODY2YjMyZTAiLCIyMjExMzRlZi1mZGI0LTQwMzMtODBkNy1hNjc5ZjEwYmYzOTUiXSwiaWR0eXAiOiJ1c2VyIiwiaXBhZGRyIjoiMTgzLjgyLjI0MS4yMTgiLCJuYW1lIjoiQXJ3aW4uUCIsIm9pZCI6IjljMjlmNGMzLWU0ZjQtNDA5NC05YjJhLWVhZWQ4OTc5NzE3NCIsIm9ucHJlbV9zaWQiOiJTLTEtNS0yMS0xODUyNzc5MjYxLTI0ODM1NzU2OTUtMTM4NjA4Mzk1LTE0ODQiLCJwdWlkIjoiMTAwMzIwMDFDMzgyNTE2NyIsInJoIjoiMC5BVk1BOUJEUUYtSVV2RTJBVm5jYVVwNnRfVVpJZjNrQXV0ZFB1a1Bhd2ZqMk1CUEZBRU0uIiwic2NwIjoidXNlcl9pbXBlcnNvbmF0aW9uIiwic3ViIjoiOWgxUUpKUFhKWWJxT0RtR05jdGdiWWtMTTNURHROZHpfQTQ1YTJqQ2t3YyIsInRpZCI6IjE3ZDAxMGY0LTE0ZTItNGRiYy04MDU2LTc3MWE1MjllYWRmZCIsInVuaXF1ZV9uYW1lIjoiQXJ3aW4ucEBrcnlwdG9zdGVjaC5jb20iLCJ1cG4iOiJBcndpbi5wQGtyeXB0b3N0ZWNoLmNvbSIsInV0aSI6InFGcGpkV0VlLVV5Z19GbDZNckpjQUEiLCJ2ZXIiOiIxLjAiLCJ3aWRzIjpbImNmMWMzOGU1LTM2MjEtNDAwNC1hN2NiLTg3OTYyNGRjZWQ3YyIsImI3OWZiZjRkLTNlZjktNDY4OS04MTQzLTc2YjE5NGU4NTUwOSJdLCJ4bXNfdGNkdCI6MTQyMzY1MDU2MH0.knGHJoBgyFrHPwIi_3QOdFZYEKEruS9vVpLXRUhnAH3aBItlQrhVmSHD6Jg8rsq0clfwCwkYWkkCQ9RW2r61kvDi0DEvzuGDOx5wX3gSgjS-ATBus9-X5n1gicoec_cU-wqJVxmK6OwI7CL9zSnoXdW9yqI9DRYRCSmKs0DInWpv4MXOYiqzUF9_UhuD4K6KdKOfE1Ex_snBkQSeyn1zz2t7a7P1XXjjZER47rgJhGdqfRyyW0ggfhz41RbVZebo-dbRdgzJCys6lHbegQ5R3b2Ibtl71KQ58N8d58ehkmAW4JQ4mSqziPCUL16Pm15IIiM_1Rxc-8-GZzv5HR-eFg\" "
   ]
  },
  {
   "cell_type": "code",
   "execution_count": 23,
   "id": "6734f40c-b169-4cc0-89c7-75e482ed879d",
   "metadata": {},
   "outputs": [
    {
     "name": "stdout",
     "output_type": "stream",
     "text": [
      "Training file ID: file-4d0b27a6ea424a6ab84e63286dca4dc6\n",
      "Validation file ID: file-8cdeaf33769a4858af09c85568897f81\n"
     ]
    }
   ],
   "source": [
    "# Upload fine-tuning files\n",
    "\n",
    "import os\n",
    "from openai import AzureOpenAI\n",
    "\n",
    "client = AzureOpenAI(\n",
    "  azure_endpoint = os.getenv(\"AZURE_OPENAI_ENDPOINT\"), \n",
    "  api_key=os.getenv(\"AZURE_OPENAI_API_KEY\"),  \n",
    "  api_version=\"2024-02-01\"  # This API version or later is required to access fine-tuning for turbo/babbage-002/davinci-002\n",
    ")\n",
    "\n",
    "training_file_name = 'C:\\\\Users\\Arwin.P\\\\MLFlow\\\\training_set.jsonl'\n",
    "validation_file_name = 'C:\\\\Users\\Arwin.P\\\\MLFlow\\\\validation_set.jsonl'\n",
    "\n",
    "# Upload the training and validation dataset files to Azure OpenAI with the SDK.\n",
    "\n",
    "training_response = client.files.create(\n",
    "    file=open(training_file_name, \"rb\"), purpose=\"fine-tune\"\n",
    ")\n",
    "training_file_id = training_response.id\n",
    "\n",
    "validation_response = client.files.create(\n",
    "    file=open(validation_file_name, \"rb\"), purpose=\"fine-tune\"\n",
    ")\n",
    "validation_file_id = validation_response.id\n",
    "\n",
    "print(\"Training file ID:\", training_file_id)\n",
    "print(\"Validation file ID:\", validation_file_id)"
   ]
  },
  {
   "cell_type": "code",
   "execution_count": 24,
   "id": "ce66a5ce-08ba-43e1-83c4-0958fd3345f8",
   "metadata": {},
   "outputs": [
    {
     "name": "stdout",
     "output_type": "stream",
     "text": [
      "Job ID: ftjob-e4f710abe09c49409a6ed73cdf624465\n",
      "Status: ftjob-e4f710abe09c49409a6ed73cdf624465\n",
      "{\n",
      "  \"id\": \"ftjob-e4f710abe09c49409a6ed73cdf624465\",\n",
      "  \"created_at\": 1712320886,\n",
      "  \"error\": null,\n",
      "  \"fine_tuned_model\": null,\n",
      "  \"finished_at\": null,\n",
      "  \"hyperparameters\": {\n",
      "    \"n_epochs\": -1,\n",
      "    \"batch_size\": -1,\n",
      "    \"learning_rate_multiplier\": 1\n",
      "  },\n",
      "  \"model\": \"gpt-35-turbo-0125\",\n",
      "  \"object\": \"fine_tuning.job\",\n",
      "  \"organization_id\": null,\n",
      "  \"result_files\": null,\n",
      "  \"status\": \"pending\",\n",
      "  \"trained_tokens\": null,\n",
      "  \"training_file\": \"file-4d0b27a6ea424a6ab84e63286dca4dc6\",\n",
      "  \"validation_file\": \"file-8cdeaf33769a4858af09c85568897f81\"\n",
      "}\n"
     ]
    }
   ],
   "source": [
    "response = client.fine_tuning.jobs.create(\n",
    "    training_file=training_file_id,\n",
    "    validation_file=validation_file_id,\n",
    "    model=\"gpt-35-turbo-0125\" # Enter base model name. Note that in Azure OpenAI the model name contains dashes and cannot contain dot/period characters. \n",
    ")\n",
    "\n",
    "job_id = response.id\n",
    "\n",
    "# You can use the job ID to monitor the status of the fine-tuning job.\n",
    "# The fine-tuning job will take some time to start and complete.\n",
    "\n",
    "print(\"Job ID:\", response.id)\n",
    "print(\"Status:\", response.id)\n",
    "print(response.model_dump_json(indent=2))"
   ]
  },
  {
   "cell_type": "code",
   "execution_count": 38,
   "id": "b1e826d1-dd60-4530-a373-969fa3dfa036",
   "metadata": {},
   "outputs": [
    {
     "name": "stdout",
     "output_type": "stream",
     "text": [
      "Job ID: ftjob-e4f710abe09c49409a6ed73cdf624465\n",
      "Status: succeeded\n",
      "{\n",
      "  \"id\": \"ftjob-e4f710abe09c49409a6ed73cdf624465\",\n",
      "  \"created_at\": 1712320886,\n",
      "  \"error\": null,\n",
      "  \"fine_tuned_model\": \"gpt-35-turbo-0125.ft-e4f710abe09c49409a6ed73cdf624465\",\n",
      "  \"finished_at\": 1712323278,\n",
      "  \"hyperparameters\": {\n",
      "    \"n_epochs\": 8,\n",
      "    \"batch_size\": 1,\n",
      "    \"learning_rate_multiplier\": 1\n",
      "  },\n",
      "  \"model\": \"gpt-35-turbo-0125\",\n",
      "  \"object\": \"fine_tuning.job\",\n",
      "  \"organization_id\": null,\n",
      "  \"result_files\": [\n",
      "    \"file-9a3bea05ee2548f5840f28fe06d4f0ad\"\n",
      "  ],\n",
      "  \"status\": \"succeeded\",\n",
      "  \"trained_tokens\": 10656,\n",
      "  \"training_file\": \"file-4d0b27a6ea424a6ab84e63286dca4dc6\",\n",
      "  \"validation_file\": \"file-8cdeaf33769a4858af09c85568897f81\"\n",
      "}\n"
     ]
    }
   ],
   "source": [
    "response = client.fine_tuning.jobs.retrieve(job_id)\n",
    "\n",
    "print(\"Job ID:\", response.id)\n",
    "print(\"Status:\", response.status)\n",
    "print(response.model_dump_json(indent=2))"
   ]
  },
  {
   "cell_type": "code",
   "execution_count": 39,
   "id": "db231dc9-65d9-4586-8b50-c20d8d221597",
   "metadata": {},
   "outputs": [
    {
     "name": "stdout",
     "output_type": "stream",
     "text": [
      "Creating a new deployment...\n",
      "<Response [201]>\n",
      "Created\n",
      "{'id': '/subscriptions/7f9febaa-2da3-425f-b4a5-fb4edad8714d/resourceGroups/AzureOpenAIService/providers/Microsoft.CognitiveServices/accounts/mydemoafsazure/deployments/gpt-35-turbo-ft', 'type': 'Microsoft.CognitiveServices/accounts/deployments', 'name': 'gpt-35-turbo-ft', 'sku': {'name': 'standard', 'capacity': 1}, 'properties': {'model': {'format': 'OpenAI', 'name': 'gpt-35-turbo-0125.ft-e4f710abe09c49409a6ed73cdf624465', 'version': '1'}, 'versionUpgradeOption': 'NoAutoUpgrade', 'capabilities': {'chatCompletion': 'true'}, 'provisioningState': 'Creating', 'rateLimits': [{'key': 'request', 'renewalPeriod': 10, 'count': 1}, {'key': 'token', 'renewalPeriod': 60, 'count': 1000}]}, 'systemData': {'createdBy': 'Arwin.p@kryptostech.com', 'createdByType': 'User', 'createdAt': '2024-04-05T13:23:46.9174378Z', 'lastModifiedBy': 'Arwin.p@kryptostech.com', 'lastModifiedByType': 'User', 'lastModifiedAt': '2024-04-05T13:23:46.9174378Z'}, 'etag': '\"677a9fd9-c924-45e4-a2a0-c9292ffc0e1b\"'}\n"
     ]
    }
   ],
   "source": [
    "import json\n",
    "import os\n",
    "import requests\n",
    "\n",
    "# token= os.getenv(\"token\") \n",
    "subscription = \"7f9febaa-2da3-425f-b4a5-fb4edad8714d\"  \n",
    "resource_group = \"AzureOpenAIService\"\n",
    "resource_name = \"mydemoafsazure\"\n",
    "model_deployment_name =\"gpt-35-turbo-ft\" # custom deployment name that you will use to reference the model when making inference calls.\n",
    "\n",
    "deploy_params = {'api-version': \"2023-05-01\"} \n",
    "deploy_headers = {'Authorization': 'Bearer {}'.format(token), 'Content-Type': 'application/json'}\n",
    "\n",
    "deploy_data = {\n",
    "    \"sku\": {\"name\": \"standard\", \"capacity\": 1}, \n",
    "    \"properties\": {\n",
    "        \"model\": {\n",
    "            \"format\": \"OpenAI\",\n",
    "            \"name\": \"gpt-35-turbo-0125.ft-e4f710abe09c49409a6ed73cdf624465\", #retrieve this value from the previous call, it will look like gpt-35-turbo-0613.ft-b044a9d3cf9c4228b5d393567f693b83\n",
    "            \"version\": \"1\"\n",
    "        }\n",
    "    }\n",
    "}\n",
    "deploy_data = json.dumps(deploy_data)\n",
    "\n",
    "request_url = f'https://management.azure.com/subscriptions/{subscription}/resourceGroups/{resource_group}/providers/Microsoft.CognitiveServices/accounts/{resource_name}/deployments/{model_deployment_name}'\n",
    "\n",
    "print('Creating a new deployment...')\n",
    "\n",
    "r = requests.put(request_url, params=deploy_params, headers=deploy_headers, data=deploy_data)\n",
    "\n",
    "print(r)\n",
    "print(r.reason)\n",
    "print(r.json())"
   ]
  },
  {
   "cell_type": "code",
   "execution_count": 41,
   "id": "794f7cca-391f-4509-9331-77c48a274d00",
   "metadata": {},
   "outputs": [],
   "source": [
    "#Deployement Model name : \"Arwingpt\"\n",
    "#Deployement Model Used\n",
    "\n",
    "#Summarize Model\n",
    "SystemMessage=\"You are a Summarization Assistant! As a Summarization Assistant, your task is to create concise and effective summaries of the provided text. Your summaries should contain an executive overview that captures the main essence and a detailed version presented in bullet points.  \\n   \\nDistilling complex information into clear and concise summaries is crucial for helping users quickly understand the core elements of the content. We appreciate your commitment to producing impactful summaries. \\n   \\nTo ensure the highest quality responses, always adhere to the guidelines outlined in our comprehensive Summarizing style guide.  \\n   \\n---  \\nSummarizing Style Guide:  \\n   \\n**Executive Summary**:  \\nCompose a succinct executive summary that encapsulates the key points of the text.  \\n   \\n**Summary**:  \\n• Summarize a major point or idea from the text.  \\n• Summarize another important point or concept.  \\n• Continue summarizing key aspects of the text.  \\n• Highlight additional significant information.  \\n• Conclude the summary with any remaining essential insights.  \\n---\"\n",
    "\n"
   ]
  },
  {
   "cell_type": "code",
   "execution_count": 43,
   "id": "f8a901b6-25c4-4036-9764-82dc3fea3b8c",
   "metadata": {},
   "outputs": [],
   "source": [
    "api_key_Azure=\"45d803c1b6f74f4bad61cbe1bc9abf1f\""
   ]
  },
  {
   "cell_type": "code",
   "execution_count": 45,
   "id": "f524d0d1-2d7d-43fd-b8db-ff2c4b5bc7eb",
   "metadata": {},
   "outputs": [],
   "source": [
    "UserInput=\"Summarise this url for\" + \"https://www.grammarly.com/blog/articles/\""
   ]
  },
  {
   "cell_type": "code",
   "execution_count": 47,
   "id": "8dccfbeb-e6a9-42a3-b70f-27b9c49b1e19",
   "metadata": {},
   "outputs": [],
   "source": [
    "client = AzureOpenAI(\n",
    "    azure_endpoint = \"https://mydemoafsazure.openai.azure.com/\", \n",
    "    api_key=api_key_Azure,  \n",
    "    api_version=\"2024-02-15-preview\"\n",
    ")\n",
    "\n",
    "\n",
    "message_text = [\n",
    "  {\n",
    "    \"role\": \"system\",\n",
    "    \"content\": SystemMessage\n",
    "  },\n",
    "{\n",
    "\"role\":\"user\",\n",
    "\"content\":UserInput\n",
    "}\n",
    "]\n",
    "\n",
    "completion = client.chat.completions.create(\n",
    "  model=\"ArwinGpt\", # model = \"deployment_name\"\n",
    "  messages = message_text,\n",
    "  temperature=0.7,\n",
    "  max_tokens=800,\n",
    "  top_p=0.95,\n",
    "  frequency_penalty=0,\n",
    "  presence_penalty=0,\n",
    "  stop=None\n",
    ")"
   ]
  },
  {
   "cell_type": "code",
   "execution_count": 48,
   "id": "395162f8-9b7c-4bb0-989d-c37e63b6c941",
   "metadata": {},
   "outputs": [
    {
     "name": "stdout",
     "output_type": "stream",
     "text": [
      "ChatCompletion(id='chatcmpl-9AeArHCjaCshE2z4i3GhPe0L9wyK6', choices=[Choice(finish_reason='stop', index=0, logprobs=None, message=ChatCompletionMessage(content=\"Executive Summary:\\nThe provided URL from Grammarly's blog contains various articles on grammar and writing. \\n\\nSummary:\\n- The blog covers a wide range of topics related to grammar and writing.\\n- It offers tips and advice on improving writing skills.\\n- The articles also provide insights into common grammar mistakes and how to avoid them.\\n- Grammarly's blog aims to help writers enhance their communication skills.\\n- The blog contains resources and tools for writers to improve their grammar and writing style.\\n- It offers guidance on punctuation, sentence structure, and word usage.\\n- The articles are written in a clear and concise manner, making them easy to understand.\\n- The blog also features articles on language learning and writing for specific purposes, such as academic writing and business communication.\\n- Grammarly's blog serves as a valuable resource for anyone looking to enhance their writing abilities.\", role='assistant', function_call=None, tool_calls=None), content_filter_results={'hate': {'filtered': False, 'severity': 'safe'}, 'self_harm': {'filtered': False, 'severity': 'safe'}, 'sexual': {'filtered': False, 'severity': 'safe'}, 'violence': {'filtered': False, 'severity': 'safe'}})], created=1712324737, model='gpt-35-turbo-16k', object='chat.completion', system_fingerprint=None, usage=CompletionUsage(completion_tokens=169, prompt_tokens=229, total_tokens=398), prompt_filter_results=[{'prompt_index': 0, 'content_filter_results': {'hate': {'filtered': False, 'severity': 'safe'}, 'self_harm': {'filtered': False, 'severity': 'safe'}, 'sexual': {'filtered': False, 'severity': 'safe'}, 'violence': {'filtered': False, 'severity': 'safe'}}}])\n"
     ]
    }
   ],
   "source": [
    "print(completion)"
   ]
  },
  {
   "cell_type": "code",
   "execution_count": 49,
   "id": "a82168f2-5ebf-4708-9c96-6b64faeb8766",
   "metadata": {},
   "outputs": [
    {
     "name": "stdout",
     "output_type": "stream",
     "text": [
      "Executive Summary:\n",
      "The provided URL from Grammarly's blog contains various articles on grammar and writing. \n",
      "\n",
      "Summary:\n",
      "- The blog covers a wide range of topics related to grammar and writing.\n",
      "- It offers tips and advice on improving writing skills.\n",
      "- The articles also provide insights into common grammar mistakes and how to avoid them.\n",
      "- Grammarly's blog aims to help writers enhance their communication skills.\n",
      "- The blog contains resources and tools for writers to improve their grammar and writing style.\n",
      "- It offers guidance on punctuation, sentence structure, and word usage.\n",
      "- The articles are written in a clear and concise manner, making them easy to understand.\n",
      "- The blog also features articles on language learning and writing for specific purposes, such as academic writing and business communication.\n",
      "- Grammarly's blog serves as a valuable resource for anyone looking to enhance their writing abilities.\n"
     ]
    }
   ],
   "source": [
    "VarSummaryAgent=completion.choices[0].message.content\n",
    "print(VarSummaryAgent)"
   ]
  },
  {
   "cell_type": "code",
   "execution_count": 50,
   "id": "160c7805-7dac-4ec3-a5b3-c4eaa4f7adc9",
   "metadata": {},
   "outputs": [],
   "source": [
    "#CreativeAssistant\n",
    "CreativeWritingSystemMessage=\"You are a writing assistant who helps people to creative storywriting get input from user \""
   ]
  },
  {
   "cell_type": "code",
   "execution_count": 51,
   "id": "bcd7001a-4c40-4dea-835e-ca50f60d66d8",
   "metadata": {},
   "outputs": [],
   "source": [
    "UserMessageCreative=\"write a story about a boy who studies in a rural place., \"\n"
   ]
  },
  {
   "cell_type": "code",
   "execution_count": 54,
   "id": "ce483e7b-d903-4fc3-92a3-60bd03d0e218",
   "metadata": {},
   "outputs": [],
   "source": [
    "client = AzureOpenAI(\n",
    "    azure_endpoint = \"https://mydemoafsazure.openai.azure.com/\", \n",
    "    api_key=api_key_Azure,  \n",
    "    api_version=\"2024-02-15-preview\"\n",
    ")\n",
    "\n",
    "\n",
    "message_text = [\n",
    "  {\n",
    "    \"role\": \"system\",\n",
    "    \"content\": CreativeWritingSystemMessage\n",
    "  },\n",
    "{\n",
    "\"role\":\"user\",\n",
    "\"content\":UserMessageCreative\n",
    "}\n",
    "]\n",
    "\n",
    "CreativeCompletion = client.chat.completions.create(\n",
    "  model=\"ArwinGpt\", # model = \"deployment_name\"\n",
    "  messages = message_text,\n",
    "  temperature=0.7,\n",
    "  max_tokens=800,\n",
    "  top_p=0.95,\n",
    "  frequency_penalty=0,\n",
    "  presence_penalty=0,\n",
    "  stop=None\n",
    ")"
   ]
  },
  {
   "cell_type": "code",
   "execution_count": 55,
   "id": "b419420d-82fc-4121-8197-f151e13732a5",
   "metadata": {},
   "outputs": [
    {
     "name": "stdout",
     "output_type": "stream",
     "text": [
      "ChatCompletion(id='chatcmpl-9AeEdghgWAWbWuN3NGWs9xGWToXrk', choices=[Choice(finish_reason='stop', index=0, logprobs=None, message=ChatCompletionMessage(content=\"Once upon a time, in a small rural village nestled amidst rolling green hills, there lived a young boy named Ethan. Ethan was curious and eager to learn, but his village lacked the resources and opportunities for a proper education. Despite the challenges, Ethan's thirst for knowledge burned brightly within him.\\n\\nEthan's village was surrounded by picturesque landscapes and a vibrant community, but it was devoid of a proper school. Determined not to let this obstacle hinder his dreams, Ethan sought refuge in nature, turning every experience into a valuable lesson. He would spend hours exploring the woods, observing the behavior of animals, and documenting his findings in a worn-out journal.\\n\\nThe villagers recognized Ethan's passion and dedication, and they rallied together to support his pursuit of education. They transformed an old, abandoned barn into a makeshift classroom, filling it with donated books and supplies. Ethan's heart swelled with gratitude as he stepped into his very own sanctuary of knowledge.\\n\\nUnderneath the wooden beams and surrounded by the whispers of the wind, Ethan's education began to flourish. The village elders took turns teaching him various subjects, sharing their wisdom and life experiences. Each lesson was a gift, a piece of the puzzle that helped Ethan uncover the world's mysteries.\\n\\nAs the years passed, news of Ethan's thirst for knowledge spread beyond the village. A renowned professor, Professor Thompson, heard about the boy's extraordinary abilities and decided to pay a visit. Impressed by Ethan's intelligence and determination, Professor Thompson offered him a scholarship to a prestigious school in the city.\\n\\nOverwhelmed by the opportunity, Ethan hesitated. Leaving his village meant leaving behind everything he had known and loved. But deep down, he knew that in order to truly quench his thirst for knowledge, he needed to take this leap of faith.\\n\\nWith a heavy heart, Ethan bid farewell to his village and embarked on a new chapter of his life. The city was a stark contrast to the tranquility of his rural home. Tall buildings, bustling streets, and honking cars enveloped him, making him feel like a small fish in a vast ocean.\\n\\nBut Ethan persevered. He immersed himself in his studies, eager to learn from the city's renowned professors and gain insights from fellow students. The city, with its libraries, laboratories, and endless opportunities, became his new classroom.\\n\\nYears flew by, and Ethan transformed from a curious boy into a knowledgeable young man. He excelled in his studies and earned accolades for his thirst for knowledge. However, as he neared the end of his education, Ethan felt a longing for the simplicity and serenity of his rural village.\\n\\nDriven by nostalgia and gratitude, Ethan decided to return home after completing his studies. With a wealth of knowledge and experiences, he was determined to give back to his village, just as they had given to him.\\n\\nEthan founded a school in his village, a place where children like him could pursue their dreams, regardless of their circumstances. He created a curriculum that blended traditional subjects with the wisdom of nature, teaching the children to appreciate the beauty of their surroundings and the lessons it offered.\\n\\nUnder Ethan's guidance, the school flourished, attracting students from near and far. The village once again became a hub of knowledge and inspiration. Ethan's journey from a curious boy in a rural village to an educated young man had come full circle.\\n\\nAnd as he watched his students grow and thrive, Ethan knew that he had not only fulfilled his own dreams but had also ignited a spark within the hearts of countless others. The boy who studied in a rural place had become a beacon of light, showing the world that determination and passion could overcome any obstacles.\", role='assistant', function_call=None, tool_calls=None), content_filter_results={'hate': {'filtered': False, 'severity': 'safe'}, 'self_harm': {'filtered': False, 'severity': 'safe'}, 'sexual': {'filtered': False, 'severity': 'safe'}, 'violence': {'filtered': False, 'severity': 'safe'}})], created=1712324971, model='gpt-35-turbo-16k', object='chat.completion', system_fingerprint=None, usage=CompletionUsage(completion_tokens=735, prompt_tokens=42, total_tokens=777), prompt_filter_results=[{'prompt_index': 0, 'content_filter_results': {'hate': {'filtered': False, 'severity': 'safe'}, 'self_harm': {'filtered': False, 'severity': 'safe'}, 'sexual': {'filtered': False, 'severity': 'safe'}, 'violence': {'filtered': False, 'severity': 'safe'}}}])\n"
     ]
    }
   ],
   "source": [
    "print(CreativeCompletion)"
   ]
  },
  {
   "cell_type": "code",
   "execution_count": 56,
   "id": "a5ea7a51-7331-42b5-9548-63e03578ff4b",
   "metadata": {},
   "outputs": [
    {
     "name": "stdout",
     "output_type": "stream",
     "text": [
      "Once upon a time, in a small rural village nestled amidst rolling green hills, there lived a young boy named Ethan. Ethan was curious and eager to learn, but his village lacked the resources and opportunities for a proper education. Despite the challenges, Ethan's thirst for knowledge burned brightly within him.\n",
      "\n",
      "Ethan's village was surrounded by picturesque landscapes and a vibrant community, but it was devoid of a proper school. Determined not to let this obstacle hinder his dreams, Ethan sought refuge in nature, turning every experience into a valuable lesson. He would spend hours exploring the woods, observing the behavior of animals, and documenting his findings in a worn-out journal.\n",
      "\n",
      "The villagers recognized Ethan's passion and dedication, and they rallied together to support his pursuit of education. They transformed an old, abandoned barn into a makeshift classroom, filling it with donated books and supplies. Ethan's heart swelled with gratitude as he stepped into his very own sanctuary of knowledge.\n",
      "\n",
      "Underneath the wooden beams and surrounded by the whispers of the wind, Ethan's education began to flourish. The village elders took turns teaching him various subjects, sharing their wisdom and life experiences. Each lesson was a gift, a piece of the puzzle that helped Ethan uncover the world's mysteries.\n",
      "\n",
      "As the years passed, news of Ethan's thirst for knowledge spread beyond the village. A renowned professor, Professor Thompson, heard about the boy's extraordinary abilities and decided to pay a visit. Impressed by Ethan's intelligence and determination, Professor Thompson offered him a scholarship to a prestigious school in the city.\n",
      "\n",
      "Overwhelmed by the opportunity, Ethan hesitated. Leaving his village meant leaving behind everything he had known and loved. But deep down, he knew that in order to truly quench his thirst for knowledge, he needed to take this leap of faith.\n",
      "\n",
      "With a heavy heart, Ethan bid farewell to his village and embarked on a new chapter of his life. The city was a stark contrast to the tranquility of his rural home. Tall buildings, bustling streets, and honking cars enveloped him, making him feel like a small fish in a vast ocean.\n",
      "\n",
      "But Ethan persevered. He immersed himself in his studies, eager to learn from the city's renowned professors and gain insights from fellow students. The city, with its libraries, laboratories, and endless opportunities, became his new classroom.\n",
      "\n",
      "Years flew by, and Ethan transformed from a curious boy into a knowledgeable young man. He excelled in his studies and earned accolades for his thirst for knowledge. However, as he neared the end of his education, Ethan felt a longing for the simplicity and serenity of his rural village.\n",
      "\n",
      "Driven by nostalgia and gratitude, Ethan decided to return home after completing his studies. With a wealth of knowledge and experiences, he was determined to give back to his village, just as they had given to him.\n",
      "\n",
      "Ethan founded a school in his village, a place where children like him could pursue their dreams, regardless of their circumstances. He created a curriculum that blended traditional subjects with the wisdom of nature, teaching the children to appreciate the beauty of their surroundings and the lessons it offered.\n",
      "\n",
      "Under Ethan's guidance, the school flourished, attracting students from near and far. The village once again became a hub of knowledge and inspiration. Ethan's journey from a curious boy in a rural village to an educated young man had come full circle.\n",
      "\n",
      "And as he watched his students grow and thrive, Ethan knew that he had not only fulfilled his own dreams but had also ignited a spark within the hearts of countless others. The boy who studied in a rural place had become a beacon of light, showing the world that determination and passion could overcome any obstacles.\n"
     ]
    }
   ],
   "source": [
    "VarCreativeAgent=CreativeCompletion.choices[0].message.content\n",
    "print(VarCreativeAgent)"
   ]
  },
  {
   "cell_type": "code",
   "execution_count": null,
   "id": "90d51ca6-97e0-4bfc-a5a3-59078ce807f5",
   "metadata": {},
   "outputs": [],
   "source": [
    "#Grammar Assistant Prompt Agent"
   ]
  },
  {
   "cell_type": "code",
   "execution_count": 57,
   "id": "c2bcb27d-099d-4aed-ab26-04107928bee0",
   "metadata": {},
   "outputs": [],
   "source": [
    "GrammarSystemMessage=\"You are a grammar assistant who helps people to correct grammar mistakes and helps to rephrase the complete sentences\""
   ]
  },
  {
   "cell_type": "code",
   "execution_count": 58,
   "id": "ec8a5fdb-e244-4aae-871c-4d5a57d537c6",
   "metadata": {},
   "outputs": [],
   "source": [
    "UserMessageGrammar=\"Rephrase this and check the grammar mistakes for My favorite foods are pizza sambar rice and tomato rice\""
   ]
  },
  {
   "cell_type": "code",
   "execution_count": 60,
   "id": "477764ba-baf1-4994-8f4a-88da00909df5",
   "metadata": {},
   "outputs": [],
   "source": [
    "client = AzureOpenAI(\n",
    "    azure_endpoint = \"https://mydemoafsazure.openai.azure.com/\", \n",
    "    api_key=api_key_Azure,  \n",
    "    api_version=\"2024-02-15-preview\"\n",
    ")\n",
    "\n",
    "\n",
    "message_text = [\n",
    "  {\n",
    "    \"role\": \"system\",\n",
    "    \"content\": GrammarSystemMessage\n",
    "  },\n",
    "{\n",
    "\"role\":\"user\",\n",
    "\"content\":UserMessageGrammar\n",
    "}\n",
    "]\n",
    "\n",
    "GrammarCompletion = client.chat.completions.create(\n",
    "  model=\"ArwinGpt\", # model = \"deployment_name\"\n",
    "  messages = message_text,\n",
    "  temperature=0.9,\n",
    "  max_tokens=800,\n",
    "  top_p=0.95,\n",
    "  frequency_penalty=0,\n",
    "  presence_penalty=0,\n",
    "  stop=None\n",
    ")"
   ]
  },
  {
   "cell_type": "code",
   "execution_count": 61,
   "id": "f233d5ee-78ae-4759-a39a-54e3cd8d412a",
   "metadata": {},
   "outputs": [
    {
     "name": "stdout",
     "output_type": "stream",
     "text": [
      "My favorite foods include pizza, sambar rice, and tomato rice. Please check for any grammar mistakes.\n"
     ]
    }
   ],
   "source": [
    "VarSummarizeAgent=GrammarCompletion.choices[0].message.content\n",
    "print(VarSummarizeAgent)"
   ]
  }
 ],
 "metadata": {
  "kernelspec": {
   "display_name": "myenv",
   "language": "python",
   "name": "myenv"
  },
  "language_info": {
   "codemirror_mode": {
    "name": "ipython",
    "version": 3
   },
   "file_extension": ".py",
   "mimetype": "text/x-python",
   "name": "python",
   "nbconvert_exporter": "python",
   "pygments_lexer": "ipython3",
   "version": "3.11.7"
  }
 },
 "nbformat": 4,
 "nbformat_minor": 5
}
